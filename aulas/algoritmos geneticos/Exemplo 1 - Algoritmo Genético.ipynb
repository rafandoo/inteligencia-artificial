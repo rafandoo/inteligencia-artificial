{
 "cells": [
  {
   "cell_type": "code",
   "execution_count": 1,
   "metadata": {},
   "outputs": [],
   "source": [
    "import random\n",
    "\n",
    "#Criação aleatório de indivíduos\n",
    "def cromossomo(menor,maior):\n",
    "    return[random.randint(menor, maior) for i in range(cromossomo.size)]\n",
    "\n",
    "#Criando a população inicial\n",
    "def create_population():\n",
    "    return[cromossomo(0,9) for i in range(population.size)]\n",
    "\n",
    "#Função de avaliação\n",
    "def fitness(cromossomo):\n",
    "    fitness = 0\n",
    "    for i in range(len(cromossomo)):\n",
    "        if(cromossomo[i] == modelo[i]):\n",
    "            fitness += 1 \n",
    "    return fitness\n",
    "\n",
    "#Seleção dos pais e cruzamento\n",
    "def selection_and_crossover(population):\n",
    "    scored = [(fitness(i), i) for i in population]\n",
    "    scored = [i[1] for i in sorted(scored)]\n",
    "    population = scored\n",
    "    selected = scored[(len(scored) - parents):]\n",
    "    for i in range(len(population) - parents):\n",
    "        point = random.randint(1, cromossomo_size - 1)\n",
    "        parent = random.sample(selected, 2)\n",
    "        population[i][:point] = parent[0][:point]\n",
    "        population[i][point:] = parent[1][point:]\n",
    "    return population\n",
    "\n",
    "#Função de mutação. Utilize valores pequenos de taxa de mutação\n",
    "# para o algoritmo não ficar aleatório\n",
    "def mutation(population):\n",
    "    for i in range(len(population) - parents):\n",
    "        if(random.random() <= mutation_probability):\n",
    "            point = random.randint(0, cromossomo_size - 1)\n",
    "            new_value = random.randint(1, 9)\n",
    "            while(new_value == population[i][point]):\n",
    "                new_value = random.randint(1,9)\n",
    "            population[i][point] = new_value\n",
    "    return population"
   ]
  },
  {
   "cell_type": "code",
   "execution_count": 2,
   "metadata": {},
   "outputs": [
    {
     "name": "stdout",
     "output_type": "stream",
     "text": [
      "Modelo de entrada:\n",
      "Ex: 1 1 2 2 3 3\n",
      "Digite seu modelo:\n",
      "\n",
      "\n",
      "Modelo: [1, 1, 2, 2, 3, 3]\n",
      "\n",
      "\n"
     ]
    },
    {
     "ename": "NameError",
     "evalue": "name 'population' is not defined",
     "output_type": "error",
     "traceback": [
      "\u001b[1;31m---------------------------------------------------------------------------\u001b[0m",
      "\u001b[1;31mNameError\u001b[0m                                 Traceback (most recent call last)",
      "\u001b[1;32mc:\\dev\\IFC - BCC\\Inteligência Artificial\\aulas\\algoritmos geneticos\\Exemplo 1 - Algoritmo Genético.ipynb Célula: 2\u001b[0m in \u001b[0;36m<cell line: 14>\u001b[1;34m()\u001b[0m\n\u001b[0;32m     <a href='vscode-notebook-cell:/c%3A/dev/IFC%20-%20BCC/Intelig%C3%AAncia%20Artificial/aulas/algoritmos%20geneticos/Exemplo%201%20-%20Algoritmo%20Gen%C3%A9tico.ipynb#W1sZmlsZQ%3D%3D?line=10'>11</a>\u001b[0m parents \u001b[39m=\u001b[39m \u001b[39m2\u001b[39m\n\u001b[0;32m     <a href='vscode-notebook-cell:/c%3A/dev/IFC%20-%20BCC/Intelig%C3%AAncia%20Artificial/aulas/algoritmos%20geneticos/Exemplo%201%20-%20Algoritmo%20Gen%C3%A9tico.ipynb#W1sZmlsZQ%3D%3D?line=11'>12</a>\u001b[0m mutation_probability \u001b[39m=\u001b[39m \u001b[39m0.5\u001b[39m\n\u001b[1;32m---> <a href='vscode-notebook-cell:/c%3A/dev/IFC%20-%20BCC/Intelig%C3%AAncia%20Artificial/aulas/algoritmos%20geneticos/Exemplo%201%20-%20Algoritmo%20Gen%C3%A9tico.ipynb#W1sZmlsZQ%3D%3D?line=13'>14</a>\u001b[0m population \u001b[39m=\u001b[39m create_population()\n\u001b[0;32m     <a href='vscode-notebook-cell:/c%3A/dev/IFC%20-%20BCC/Intelig%C3%AAncia%20Artificial/aulas/algoritmos%20geneticos/Exemplo%201%20-%20Algoritmo%20Gen%C3%A9tico.ipynb#W1sZmlsZQ%3D%3D?line=14'>15</a>\u001b[0m \u001b[39mprint\u001b[39m(\u001b[39m\"\u001b[39m\u001b[39mPopulação Inicial: \u001b[39m\u001b[39m{}\u001b[39;00m\u001b[39m\"\u001b[39m\u001b[39m.\u001b[39mformat(population))\n\u001b[0;32m     <a href='vscode-notebook-cell:/c%3A/dev/IFC%20-%20BCC/Intelig%C3%AAncia%20Artificial/aulas/algoritmos%20geneticos/Exemplo%201%20-%20Algoritmo%20Gen%C3%A9tico.ipynb#W1sZmlsZQ%3D%3D?line=15'>16</a>\u001b[0m \u001b[39mprint\u001b[39m(\u001b[39m\"\u001b[39m\u001b[39m\\n\u001b[39;00m\u001b[39m\"\u001b[39m)\n",
      "\u001b[1;32mc:\\dev\\IFC - BCC\\Inteligência Artificial\\aulas\\algoritmos geneticos\\Exemplo 1 - Algoritmo Genético.ipynb Célula: 2\u001b[0m in \u001b[0;36mcreate_population\u001b[1;34m()\u001b[0m\n\u001b[0;32m      <a href='vscode-notebook-cell:/c%3A/dev/IFC%20-%20BCC/Intelig%C3%AAncia%20Artificial/aulas/algoritmos%20geneticos/Exemplo%201%20-%20Algoritmo%20Gen%C3%A9tico.ipynb#W1sZmlsZQ%3D%3D?line=7'>8</a>\u001b[0m \u001b[39mdef\u001b[39;00m \u001b[39mcreate_population\u001b[39m():\n\u001b[1;32m----> <a href='vscode-notebook-cell:/c%3A/dev/IFC%20-%20BCC/Intelig%C3%AAncia%20Artificial/aulas/algoritmos%20geneticos/Exemplo%201%20-%20Algoritmo%20Gen%C3%A9tico.ipynb#W1sZmlsZQ%3D%3D?line=8'>9</a>\u001b[0m     \u001b[39mreturn\u001b[39;00m[cromossomo(\u001b[39m0\u001b[39m,\u001b[39m9\u001b[39m) \u001b[39mfor\u001b[39;00m i \u001b[39min\u001b[39;00m \u001b[39mrange\u001b[39m(population\u001b[39m.\u001b[39msize)]\n",
      "\u001b[1;31mNameError\u001b[0m: name 'population' is not defined"
     ]
    }
   ],
   "source": [
    "print(\"Modelo de entrada:\")\n",
    "print(\"Ex: 1 1 2 2 3 3\")\n",
    "print(\"Digite seu modelo:\")\n",
    "input_model = input()\n",
    "modelo = [int(i) for i in input_model.split()]\n",
    "print(\"\\n\")\n",
    "print(\"Modelo: {}\".format(modelo))\n",
    "print(\"\\n\")\n",
    "cromossomo_size = len(modelo)\n",
    "population_size = 100\n",
    "parents = 2\n",
    "mutation_probability = 0.5\n",
    "\n",
    "population = create_population()\n",
    "print(\"População Inicial: {}\".format(population))\n",
    "print(\"\\n\")\n",
    "for i in range(100):\n",
    "    population = selection_and_crossover(population)\n",
    "    population = mutation(population)\n",
    "print(\"População Final: {}\".format(population))"
   ]
  },
  {
   "cell_type": "code",
   "execution_count": null,
   "metadata": {},
   "outputs": [],
   "source": []
  }
 ],
 "metadata": {
  "kernelspec": {
   "display_name": "Python 3.10.6 64-bit",
   "language": "python",
   "name": "python3"
  },
  "language_info": {
   "codemirror_mode": {
    "name": "ipython",
    "version": 3
   },
   "file_extension": ".py",
   "mimetype": "text/x-python",
   "name": "python",
   "nbconvert_exporter": "python",
   "pygments_lexer": "ipython3",
   "version": "3.10.6"
  },
  "vscode": {
   "interpreter": {
    "hash": "f9e4dc9f9849216cde722f1d05d16f9d6e39392894aab521b220488c9419cf33"
   }
  }
 },
 "nbformat": 4,
 "nbformat_minor": 2
}
