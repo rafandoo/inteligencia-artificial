{
 "cells": [
  {
   "cell_type": "markdown",
   "metadata": {},
   "source": [
    "## Versão 1"
   ]
  },
  {
   "cell_type": "code",
   "execution_count": null,
   "metadata": {},
   "outputs": [],
   "source": [
    "entradas = [1, 7, 5]\n",
    "pesos = [0.8, 0.1, 0]"
   ]
  },
  {
   "cell_type": "code",
   "execution_count": null,
   "metadata": {},
   "outputs": [],
   "source": [
    "def perceptron(entradas, pesos):\n",
    "    soma = 0\n",
    "    for i in range(3):\n",
    "        soma += entradas[i] * pesos[i]\n",
    "        \n",
    "    return 1 if soma >= 0 else -1\n"
   ]
  },
  {
   "cell_type": "code",
   "execution_count": null,
   "metadata": {},
   "outputs": [],
   "source": [
    "y = perceptron(entradas, pesos)\n",
    "print(y)"
   ]
  },
  {
   "cell_type": "markdown",
   "metadata": {},
   "source": [
    "## Versão 2"
   ]
  },
  {
   "cell_type": "code",
   "execution_count": null,
   "metadata": {},
   "outputs": [],
   "source": [
    "import numpy as np\n"
   ]
  },
  {
   "cell_type": "code",
   "execution_count": null,
   "metadata": {},
   "outputs": [],
   "source": [
    "e = np.array([1, 7, 5])\n",
    "p = np.array([0.8, 0.1, 0])\n"
   ]
  },
  {
   "cell_type": "code",
   "execution_count": null,
   "metadata": {},
   "outputs": [],
   "source": [
    "def neuronio(e, p):\n",
    "    soma = e.dot(p)\n",
    "    return 1 if soma >= 0 else -1"
   ]
  },
  {
   "cell_type": "code",
   "execution_count": null,
   "metadata": {},
   "outputs": [],
   "source": [
    "y = neuronio(e, p)\n",
    "print(y)"
   ]
  },
  {
   "cell_type": "markdown",
   "metadata": {},
   "source": [
    "## Versão 3 - Com ajuste de pesos"
   ]
  },
  {
   "cell_type": "code",
   "execution_count": null,
   "metadata": {},
   "outputs": [],
   "source": [
    "inp = np.array([[0, 0], [0, 1], [1, 0], [1, 1]])\n",
    "out = np.array([0, 0, 0, 1])\n",
    "pesos = np.array([0.0, 0.0])\n",
    "txAprendizado = 0.1\n"
   ]
  },
  {
   "cell_type": "code",
   "execution_count": null,
   "metadata": {},
   "outputs": [],
   "source": [
    "def neuronioPerceptron(e, p):\n",
    "    soma = e.dot(p)\n",
    "    return 1 if soma >= 1 else 0"
   ]
  },
  {
   "cell_type": "code",
   "execution_count": null,
   "metadata": {},
   "outputs": [],
   "source": [
    "def treinar(inp, out, pesos, txAprendizado):\n",
    "    et = 1\n",
    "    while et != 0:\n",
    "        et = 0\n",
    "        for i in range(len(out)):\n",
    "            y = neuronioPerceptron(np.asarray(inp[i]), pesos)\n",
    "            erro = out[i] - y\n",
    "            et += erro\n",
    "            if erro != 0:\n",
    "                for j in range(len(pesos)):\n",
    "                    pesos[j] = pesos[j] + (txAprendizado * inp[i][j] * erro)\n",
    "                    print('Peso atualizado: ' + str(pesos[j]))\n",
    "        print('Total de erros: ' + str(et))"
   ]
  },
  {
   "cell_type": "code",
   "execution_count": null,
   "metadata": {},
   "outputs": [],
   "source": [
    "treinar(inp, out, pesos, txAprendizado)"
   ]
  }
 ],
 "metadata": {
  "kernelspec": {
   "display_name": "Python 3.10.6 64-bit",
   "language": "python",
   "name": "python3"
  },
  "language_info": {
   "codemirror_mode": {
    "name": "ipython",
    "version": 3
   },
   "file_extension": ".py",
   "mimetype": "text/x-python",
   "name": "python",
   "nbconvert_exporter": "python",
   "pygments_lexer": "ipython3",
   "version": "3.10.6"
  },
  "orig_nbformat": 4,
  "vscode": {
   "interpreter": {
    "hash": "f9e4dc9f9849216cde722f1d05d16f9d6e39392894aab521b220488c9419cf33"
   }
  }
 },
 "nbformat": 4,
 "nbformat_minor": 2
}
