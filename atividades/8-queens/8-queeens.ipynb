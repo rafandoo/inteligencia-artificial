{
 "cells": [
  {
   "cell_type": "markdown",
   "metadata": {},
   "source": [
    "# 8 rainhas\n",
    "\n",
    "Esta implementação visa resolver o seguinte problema:\n",
    "De qual forma podemos posicionar 8 rainhas em um tabuleiro 8x8, sem que nenhuma seja atacada pelas demais."
   ]
  },
  {
   "cell_type": "code",
   "execution_count": null,
   "metadata": {},
   "outputs": [],
   "source": [
    "import numpy as np\n"
   ]
  },
  {
   "cell_type": "code",
   "execution_count": null,
   "metadata": {},
   "outputs": [],
   "source": [
    "# Número de indivíduos que serão selecionados para reprodução\n",
    "TAMANHO_POPULACAO = 100\n",
    "\n",
    "# Número de gerações que serão geradas\n",
    "NUMERO_GERACOES = 10000\n",
    "\n",
    "# Número de estados possíveis para cada rainha\n",
    "ESTADOS = 8\n",
    "\n",
    "# Probabilidade de mutação\n",
    "MUTACAO = 0.5\n",
    "\n",
    "# Taxa de cruzamento\n",
    "TAXA_CRUZAMENTO = 0.5\n"
   ]
  },
  {
   "cell_type": "code",
   "execution_count": null,
   "metadata": {},
   "outputs": [],
   "source": [
    "def gerarPopulacaoInicial(tamanho_populacao, estados):\n",
    "    \"\"\"Gera uma população inicial de tamanho = tamanho_populacao com estados = ESTADOS\"\"\"\n",
    "    populacao = []\n",
    "    for i in range(tamanho_populacao):\n",
    "        populacao.append(np.random.randint(0, estados, size=estados))\n",
    "    return populacao\n",
    "\n"
   ]
  },
  {
   "cell_type": "code",
   "execution_count": null,
   "metadata": {},
   "outputs": [],
   "source": [
    "def fitness(populacao):\n",
    "    \"\"\" \n",
    "    Calcula o fitness de cada indivíduo da população\n",
    "    \n",
    "    O fitness é calculado tendo como base o número de colisões/ataques\n",
    "    que cada rainha tem sobre as demais. Levendo em consideração que\n",
    "    as rainhas não podem estar na mesma linha, coluna ou diagonal, \n",
    "    para que o individuo seja perfeito, o fitness deve ser 0.\n",
    "    \"\"\"\n",
    "    fit = []\n",
    "    for individuo in populacao:\n",
    "        colisoes = 0\n",
    "        for i in range(len(individuo)):\n",
    "            for j in range(i + 1, len(individuo)):\n",
    "                if individuo[i] == individuo[j]:\n",
    "                    colisoes += 1\n",
    "                if individuo[i] - individuo[j] == i - j:\n",
    "                    colisoes += 1\n",
    "                if individuo[i] - individuo[j] == j - i:\n",
    "                    colisoes += 1\n",
    "        fit.append(colisoes)\n",
    "    return fit\n",
    "\n",
    "def fitnessIndividuo(individuo):\n",
    "    # função de fitness por indivíduo\n",
    "    colisoes = 0\n",
    "    for i in range(len(individuo)):\n",
    "        for j in range(i + 1, len(individuo)):\n",
    "            if individuo[i] == individuo[j]:\n",
    "                colisoes += 1\n",
    "            if individuo[i] - individuo[j] == i - j:\n",
    "                colisoes += 1\n",
    "            if individuo[i] - individuo[j] == j - i:\n",
    "                colisoes += 1\n",
    "    return colisoes\n"
   ]
  },
  {
   "cell_type": "code",
   "execution_count": null,
   "metadata": {},
   "outputs": [],
   "source": [
    "def selecaoCrossover(populacao):\n",
    "    \"\"\"\n",
    "    Seleciona os indivíduos que serão reproduzidos e realiza o crossover\n",
    "    \n",
    "    A seleção dos pais, ou seja os indivíduos que serão reproduzidos, é feita\n",
    "    tendo como base o fitness de cada indivíduo. Os indivíduos com fitness menor\n",
    "    são selecionados, após isto o fitness do indivíduo selecionado é atribuido o valor\n",
    "    de 1000 para que ele não seja selecionado novamente. O crossover é realizado \n",
    "    com base na taxa de cruzamento, e pelo ponto de corte (é escolhido aleatoriamente,\n",
    "    dentro do tamanho do indivíduo) é feito o cruzamento dos indivíduos selecionados.\n",
    "    \n",
    "    Os filho gerados são adicionados a uma nova população que será retornada.\n",
    "    \"\"\"\n",
    "    fit = fitness(populacao)\n",
    "    populacao = np.array(populacao)\n",
    "    \n",
    "    pais = []\n",
    "    for i in range(len(populacao)):\n",
    "        pais.append(populacao[np.argmin(fit)])\n",
    "        fit[np.argmin(fit)] = 1000\n",
    "    pais = np.array(pais)\n",
    "    \n",
    "    filhos = []\n",
    "    for i in range(0, len(pais), 2):\n",
    "        if np.random.random() < TAXA_CRUZAMENTO:\n",
    "            ponto_corte = np.random.randint(1, ESTADOS)\n",
    "            filho1 = np.concatenate((pais[i, :ponto_corte], pais[i + 1, ponto_corte:]))\n",
    "            filho2 = np.concatenate((pais[i + 1, :ponto_corte], pais[i, ponto_corte:]))\n",
    "            filhos.append(filho1)\n",
    "            filhos.append(filho2)\n",
    "        else:\n",
    "            filhos.append(pais[i])\n",
    "            filhos.append(pais[i + 1])\n",
    "\n",
    "    return filhos\n"
   ]
  },
  {
   "cell_type": "code",
   "execution_count": null,
   "metadata": {},
   "outputs": [],
   "source": [
    "def mutacao(populacao):\n",
    "    \"\"\"\n",
    "    Realiza a mutação dos indivíduos da população\n",
    "    tendo como base a probabilidade de mutação,\n",
    "    logo se o número aleatório gerado (entre {0.0 e 1.0})\n",
    "    for menor que a probabilidade de mutação, o indivíduo\n",
    "    sofrerá mutação. Esta qual consiste em trocar o valor \n",
    "    de um dos estados do indivíduo por um valor aleatório.\n",
    "    \"\"\"\n",
    "    for i in range(len(populacao)):\n",
    "        if np.random.random() < MUTACAO:\n",
    "            populacao[i][np.random.randint(0, ESTADOS)] = np.random.randint(0, ESTADOS)\n",
    "    return populacao\n"
   ]
  },
  {
   "cell_type": "code",
   "execution_count": null,
   "metadata": {},
   "outputs": [],
   "source": [
    "def imprimeTabuleiro(individuo):\n",
    "    # Essa função imprime o tabuleiro especificado com as rainhas posicionadas\n",
    "    tabuleiro = np.zeros((ESTADOS, ESTADOS))\n",
    "    for i in range(len(individuo)):\n",
    "        tabuleiro[individuo[i]][i] = 1\n",
    "    \n",
    "    # trocar 1 por 👑\n",
    "    tabuleiro = np.where(tabuleiro == 1, '👑', tabuleiro)\n",
    "\n",
    "    # trocar 0 por 🟦\n",
    "    tabuleiro = np.where(tabuleiro == '0.0', '🟦', tabuleiro)\n",
    "\n",
    "    return tabuleiro"
   ]
  },
  {
   "cell_type": "code",
   "execution_count": null,
   "metadata": {},
   "outputs": [],
   "source": [
    "def estatisticas(geracao, melhorIndividuo):\n",
    "    print('Numero de gerações: ', geracao)\n",
    "    print('Numero de individuos gerados: ', geracao * TAMANHO_POPULACAO)\n",
    "    print('Melhor indivíduo: ', melhorIndividuo)\n",
    "    print('Fitness do melhor indivíduo: ', fitnessIndividuo(melhorIndividuo))\n",
    "    print('Tabuleiro: ')\n",
    "    print(imprimeTabuleiro(melhorIndividuo))\n",
    "\n",
    "def algoritmoGenetico():\n",
    "    populacao = gerarPopulacaoInicial(TAMANHO_POPULACAO, ESTADOS)\n",
    "    geracao = 0\n",
    "    for i in range(NUMERO_GERACOES):\n",
    "        filhos = selecaoCrossover(populacao)\n",
    "        filhos = np.array(filhos)\n",
    "        filhos = mutacao(filhos)\n",
    "        populacao = filhos\n",
    "        if np.min(fitness(populacao)) == 0:\n",
    "            break\n",
    "        # print(\"Geração: \", i)\n",
    "        # print(\"Melhor indivíduo: \", populacao[np.argmin(fitness(populacao))])\n",
    "        geracao += 1\n",
    "    return geracao, populacao[np.argmin(fitness(populacao))]\n",
    "\n",
    "ag = algoritmoGenetico()\n",
    "estatisticas(ag[0], ag[1])"
   ]
  }
 ],
 "metadata": {
  "kernelspec": {
   "display_name": "Python 3.10.6 64-bit",
   "language": "python",
   "name": "python3"
  },
  "language_info": {
   "codemirror_mode": {
    "name": "ipython",
    "version": 3
   },
   "file_extension": ".py",
   "mimetype": "text/x-python",
   "name": "python",
   "nbconvert_exporter": "python",
   "pygments_lexer": "ipython3",
   "version": "3.10.6"
  },
  "orig_nbformat": 4,
  "vscode": {
   "interpreter": {
    "hash": "f9e4dc9f9849216cde722f1d05d16f9d6e39392894aab521b220488c9419cf33"
   }
  }
 },
 "nbformat": 4,
 "nbformat_minor": 2
}
